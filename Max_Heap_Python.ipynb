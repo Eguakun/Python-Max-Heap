{
  "nbformat": 4,
  "nbformat_minor": 0,
  "metadata": {
    "colab": {
      "name": "Max Heap Python",
      "provenance": [],
      "authorship_tag": "ABX9TyO9j7PHg91L4uP4xZSec9RJ"
    },
    "kernelspec": {
      "name": "python3",
      "display_name": "Python 3"
    },
    "language_info": {
      "name": "python"
    }
  },
  "cells": [
    {
      "cell_type": "code",
      "metadata": {
        "colab": {
          "base_uri": "https://localhost:8080/"
        },
        "id": "bSwLJKMsnqaI",
        "outputId": "28601b2d-bdd2-47b9-c209-74640b33e5a5"
      },
      "source": [
        "class MaxHeap:\n",
        "  def __init__(self, items=[]):\n",
        "    super().__init__()\n",
        "    self.heap = [0]\n",
        "    for item in items:\n",
        "      self.heap.append(item)\n",
        "      self.__floatUp(len(self.heap) - 1)\n",
        "    \n",
        "  def push(self, data):\n",
        "    self.heap.append(data)\n",
        "    self.__floatUp(len(self.heap) - 1)\n",
        "\n",
        "  def peek(self):\n",
        "    if self.heap[1]:\n",
        "      return self.heap[1]\n",
        "    else:\n",
        "      return False\n",
        "  \n",
        "  def pop(self):\n",
        "    if len(self.heap) > 2:\n",
        "      self.__swap(1, len(self.heap) - 1)\n",
        "      max = self.heap.pop()\n",
        "      self.__bubbleDown(1)\n",
        "    elif len(self.heap) == 2:\n",
        "      max = self.heap.pop()\n",
        "    else:\n",
        "      max = False\n",
        "    return max\n",
        "\n",
        "  def __swap(self, i, j):\n",
        "    self.heap[i], self.heap[j] = self.heap[j], self.heap[i]\n",
        "\n",
        "  def __floatUp(self, index):\n",
        "    parent = index//2\n",
        "    if index <= 1:\n",
        "      return \n",
        "    elif self.heap[index] > self.heap[parent]:\n",
        "      self.__swap(index, parent)\n",
        "      self.__floatUp(parent)\n",
        "  def __bubbleDown(self, index):\n",
        "    left = index * 2\n",
        "    right = index * 2 + 1\n",
        "    largest = index\n",
        "    if len(self.heap) > left and self.heap[largest] < self.heap[left]:\n",
        "      largest = left\n",
        "    if largest != index:\n",
        "      self.__swap(index, largest)\n",
        "      self.__bubbleDown(largest)\n",
        "  def __str__(self):\n",
        "    return str(self.heap)\n",
        "\n",
        "\n",
        "\n",
        "\n",
        "\n",
        "m = MaxHeap([95, 3, 21])\n",
        "m.push(10)\n",
        "print(m)\n",
        "print(m.pop())\n",
        "print(m.peek())\n",
        "\n",
        "\n",
        "    "
      ],
      "execution_count": 1,
      "outputs": [
        {
          "output_type": "stream",
          "name": "stdout",
          "text": [
            "[0, 95, 10, 21, 3]\n",
            "95\n",
            "10\n"
          ]
        }
      ]
    }
  ]
}